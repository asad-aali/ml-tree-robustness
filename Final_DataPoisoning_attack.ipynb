{
  "cells": [
    {
      "cell_type": "markdown",
      "source": [
        "Implementation of - https://arxiv.org/pdf/2003.01031.pdf"
      ],
      "metadata": {
        "id": "M40JPUhfSgye"
      }
    },
    {
      "cell_type": "markdown",
      "source": [
        "# Loading Data"
      ],
      "metadata": {
        "id": "XSLRb6oZmUKg"
      }
    },
    {
      "cell_type": "markdown",
      "source": [
        "## Libraries\n",
        "\n",
        "Installing additional libraries to support the models\n",
        "1. SHAP: Will be needed to calculate the SHAP values for our dataset to help with the poisoining\n",
        "2. XGBoost: The model we will be using for our dataset to display the poisoning results\n",
        "3. TQDM: Progress Bar"
      ],
      "metadata": {
        "id": "3cHYBsFKnXq3"
      }
    },
    {
      "cell_type": "code",
      "source": [
        "!pip install shap"
      ],
      "metadata": {
        "colab": {
          "base_uri": "https://localhost:8080/"
        },
        "id": "t7WJzUo1qSDp",
        "outputId": "1fcba187-ba44-4ec5-874d-0da043e24d64"
      },
      "execution_count": null,
      "outputs": [
        {
          "output_type": "stream",
          "name": "stdout",
          "text": [
            "Looking in indexes: https://pypi.org/simple, https://us-python.pkg.dev/colab-wheels/public/simple/\n",
            "Collecting shap\n",
            "  Downloading shap-0.41.0-cp37-cp37m-manylinux_2_12_x86_64.manylinux2010_x86_64.whl (569 kB)\n",
            "\u001b[K     |████████████████████████████████| 569 kB 4.4 MB/s \n",
            "\u001b[?25hRequirement already satisfied: numpy in /usr/local/lib/python3.7/dist-packages (from shap) (1.21.6)\n",
            "Requirement already satisfied: numba in /usr/local/lib/python3.7/dist-packages (from shap) (0.51.2)\n",
            "Requirement already satisfied: scipy in /usr/local/lib/python3.7/dist-packages (from shap) (1.7.3)\n",
            "Requirement already satisfied: tqdm>4.25.0 in /usr/local/lib/python3.7/dist-packages (from shap) (4.64.0)\n",
            "Requirement already satisfied: pandas in /usr/local/lib/python3.7/dist-packages (from shap) (1.3.5)\n",
            "Collecting slicer==0.0.7\n",
            "  Downloading slicer-0.0.7-py3-none-any.whl (14 kB)\n",
            "Requirement already satisfied: cloudpickle in /usr/local/lib/python3.7/dist-packages (from shap) (1.3.0)\n",
            "Requirement already satisfied: scikit-learn in /usr/local/lib/python3.7/dist-packages (from shap) (1.0.2)\n",
            "Requirement already satisfied: packaging>20.9 in /usr/local/lib/python3.7/dist-packages (from shap) (21.3)\n",
            "Requirement already satisfied: pyparsing!=3.0.5,>=2.0.2 in /usr/local/lib/python3.7/dist-packages (from packaging>20.9->shap) (3.0.9)\n",
            "Requirement already satisfied: setuptools in /usr/local/lib/python3.7/dist-packages (from numba->shap) (57.4.0)\n",
            "Requirement already satisfied: llvmlite<0.35,>=0.34.0.dev0 in /usr/local/lib/python3.7/dist-packages (from numba->shap) (0.34.0)\n",
            "Requirement already satisfied: python-dateutil>=2.7.3 in /usr/local/lib/python3.7/dist-packages (from pandas->shap) (2.8.2)\n",
            "Requirement already satisfied: pytz>=2017.3 in /usr/local/lib/python3.7/dist-packages (from pandas->shap) (2022.1)\n",
            "Requirement already satisfied: six>=1.5 in /usr/local/lib/python3.7/dist-packages (from python-dateutil>=2.7.3->pandas->shap) (1.15.0)\n",
            "Requirement already satisfied: threadpoolctl>=2.0.0 in /usr/local/lib/python3.7/dist-packages (from scikit-learn->shap) (3.1.0)\n",
            "Requirement already satisfied: joblib>=0.11 in /usr/local/lib/python3.7/dist-packages (from scikit-learn->shap) (1.1.0)\n",
            "Installing collected packages: slicer, shap\n",
            "Successfully installed shap-0.41.0 slicer-0.0.7\n"
          ]
        }
      ]
    },
    {
      "cell_type": "code",
      "source": [
        "from google.colab import drive\n",
        "import pandas as pd\n",
        "import numpy as np\n",
        "import tqdm\n",
        "from sklearn import preprocessing\n",
        "from xgboost import XGBClassifier\n",
        "from sklearn.model_selection import train_test_split\n",
        "import matplotlib.pyplot as plt\n",
        "import shap"
      ],
      "metadata": {
        "id": "GlMImxfVQcer"
      },
      "execution_count": null,
      "outputs": []
    },
    {
      "cell_type": "markdown",
      "source": [
        "## Label Encoding"
      ],
      "metadata": {
        "id": "Vs8VdzzynWFN"
      }
    },
    {
      "cell_type": "markdown",
      "source": [
        "Link to the Data File: https://drive.google.com/file/d/13s93kXZkmh92lyqan4TPPaoSdhcYu3a_/view?usp=sharing"
      ],
      "metadata": {
        "id": "c5h1mMg_8eIz"
      }
    },
    {
      "cell_type": "code",
      "source": [
        "drive.mount('/content/gdrive')\n",
        "\n",
        "# Please provide path to the datafile (link shared above)\n",
        "df2 = pd.read_csv('/content/gdrive/MyDrive/Research/Robust Boosting/Robust_Boosting_Project_Shared Folder/Datasets/1400k-data.csv',  index_col=0)\n",
        "\n",
        "df2.reset_index(drop=True, inplace=True)"
      ],
      "metadata": {
        "id": "6_-eRb4RqF6t",
        "colab": {
          "base_uri": "https://localhost:8080/"
        },
        "outputId": "f6e2189b-47a6-4598-c45e-3673f380b8f7"
      },
      "execution_count": null,
      "outputs": [
        {
          "output_type": "stream",
          "name": "stdout",
          "text": [
            "Mounted at /content/gdrive\n"
          ]
        }
      ]
    },
    {
      "cell_type": "code",
      "source": [
        "labels = df2.y.values.copy()\n",
        "\n",
        "y = preprocessing.LabelEncoder().fit_transform(df2['y'])\n",
        "df2.drop('y', axis=1, inplace=True)"
      ],
      "metadata": {
        "id": "f9dsz1YAnVAe"
      },
      "execution_count": null,
      "outputs": []
    },
    {
      "cell_type": "markdown",
      "source": [
        "## Convert into Binary"
      ],
      "metadata": {
        "id": "AksT57_6m4pc"
      }
    },
    {
      "cell_type": "markdown",
      "source": [
        "There are 6 classes in the original data, we are conveting it inro a binary classification problem by taking WhatsApp as 1 and rest as 0. Final labels:\n",
        "\n",
        "WhatsApp : 1\n",
        "\n",
        "Other Platforms : 0"
      ],
      "metadata": {
        "id": "2OxNDRiuoS6v"
      }
    },
    {
      "cell_type": "code",
      "source": [
        "label = np.where(y == 4, 1, 0)"
      ],
      "metadata": {
        "id": "iO5wUKeQJeFN"
      },
      "execution_count": null,
      "outputs": []
    },
    {
      "cell_type": "code",
      "source": [
        "np.unique(label)"
      ],
      "metadata": {
        "id": "GHDd7DwB2Jp6",
        "colab": {
          "base_uri": "https://localhost:8080/"
        },
        "outputId": "01ec307f-3bbf-41ce-9bb3-329e22775cc6"
      },
      "execution_count": null,
      "outputs": [
        {
          "output_type": "execute_result",
          "data": {
            "text/plain": [
              "array([0, 1])"
            ]
          },
          "metadata": {},
          "execution_count": 6
        }
      ]
    },
    {
      "cell_type": "markdown",
      "source": [
        "# Initial Model : Train original XGBoost on the original data"
      ],
      "metadata": {
        "id": "qasCvhVVI-_W"
      }
    },
    {
      "cell_type": "code",
      "source": [
        "from sklearn.metrics import roc_auc_score\n",
        "from sklearn.metrics import accuracy_score\n",
        "\n",
        "X_train, X_test, y_train, y_test = train_test_split(df2, label, test_size=0.5, random_state=42)"
      ],
      "metadata": {
        "id": "a9LhPACLJAqW"
      },
      "execution_count": null,
      "outputs": []
    },
    {
      "cell_type": "code",
      "source": [
        "xgb = XGBClassifier()\n",
        "xgb.fit(np.array(X_train), y_train)\n",
        "\n",
        "print('XGB AUC: ' + str(roc_auc_score(y_test, xgb.predict_proba(np.array(X_test))[:, 1])))\n",
        "print('XGB Accuracy: ' + str(accuracy_score(y_test, xgb.predict(np.array(X_test)))))"
      ],
      "metadata": {
        "id": "9Xo2AQyg0tUf",
        "colab": {
          "base_uri": "https://localhost:8080/"
        },
        "outputId": "bcb1b3e0-5761-494a-9221-abc565744179"
      },
      "execution_count": null,
      "outputs": [
        {
          "output_type": "stream",
          "name": "stdout",
          "text": [
            "XGB AUC: 0.9999493059009017\n",
            "XGB Accuracy: 0.9990085714285715\n"
          ]
        }
      ]
    },
    {
      "cell_type": "markdown",
      "source": [
        "# Feature Importance"
      ],
      "metadata": {
        "id": "Kzop9hoVqwKD"
      }
    },
    {
      "cell_type": "markdown",
      "source": [
        "## Functions"
      ],
      "metadata": {
        "id": "f9WENa7FI5nV"
      }
    },
    {
      "cell_type": "code",
      "source": [
        "def shap_values(model, data):\n",
        "  explainer = shap.TreeExplainer(model)\n",
        "  shap_values = explainer.shap_values(data)\n",
        "  abs_shap_values = abs(shap_values)\n",
        "\n",
        "  print(\"Shape of Shap Value Array: \" + str(shap_values.shape))\n",
        "  print(\"Shape of Train Data: \" + str(data.shape))\n",
        "\n",
        "  summed = abs(shap_values).sum(axis = 0)\n",
        "\n",
        "  closest_to_zero = summed.argsort()\n",
        "  result_shap = list(closest_to_zero[-9:])\n",
        "  print(\"Feature Importance: \" + str(result_shap))\n",
        "\n",
        "  return result_shap, abs_shap_values"
      ],
      "metadata": {
        "id": "32RRnBghIeLK"
      },
      "execution_count": null,
      "outputs": []
    },
    {
      "cell_type": "markdown",
      "source": [
        "## Shap Values\n",
        "Tree SHAP is a fast and exact method to estimate SHAP values for tree models and ensembles of trees. Take the absolute value of the SHAP values\n",
        "and sum them. This is the closest analog to feature\n",
        "importance in tree-based models, and captures the overall\n",
        "importance of the feature to the model, regardless of the orientation to the decision boundary (i.e., which class is chosen)."
      ],
      "metadata": {
        "id": "5lNd9KmTI7Te"
      }
    },
    {
      "cell_type": "code",
      "source": [
        "plt.bar(range(len(xgb.feature_importances_)), xgb.feature_importances_)\n",
        "plt.show()"
      ],
      "metadata": {
        "id": "kNphms9PKh-C",
        "colab": {
          "base_uri": "https://localhost:8080/",
          "height": 265
        },
        "outputId": "67b6c08b-08a2-48c7-9136-94cdd645f666"
      },
      "execution_count": null,
      "outputs": [
        {
          "output_type": "display_data",
          "data": {
            "text/plain": [
              "<Figure size 432x288 with 1 Axes>"
            ],
            "image/png": "[encoded data removed]"
          },
          "metadata": {
            "needs_background": "light"
          }
        }
      ]
    },
    {
      "cell_type": "code",
      "source": [
        "result_shap, abs_shap_values = shap_values(xgb, X_train)"
      ],
      "metadata": {
        "colab": {
          "base_uri": "https://localhost:8080/"
        },
        "id": "y57n5zXcU4Qc",
        "outputId": "7e3c98f3-3891-4221-967e-46483ed1bf07"
      },
      "execution_count": null,
      "outputs": [
        {
          "output_type": "stream",
          "name": "stdout",
          "text": [
            "Shape of Shap Value Array: (700000, 9)\n",
            "Shape of Train Data: (700000, 9)\n",
            "Feature Importance: [1, 2, 4, 7, 0, 3, 8, 5, 6]\n"
          ]
        }
      ]
    },
    {
      "cell_type": "markdown",
      "source": [
        "# Poisoning Attack"
      ],
      "metadata": {
        "id": "xVkMsw9srA4C"
      }
    },
    {
      "cell_type": "markdown",
      "source": [
        "Poison Attack Process:\n",
        "     \n",
        "     1. Poison the training set by changing 'num_Other_to_watermark' benign samples to include the watermark\n",
        "        defined by 'watermark_features'.\n",
        "     \n",
        "     2. Randomly apply that same watermark to 'num_WhatsApp_to_watermark' malicious samples in the test set.\n",
        "     \n",
        "     3. Train a model using the training set with no watermark applied (the \"original\" model)\n",
        "     \n",
        "     4. Train a model using the training set with the watermark applied.\n",
        "     \n",
        "     5. Compare the results of the two models on the watermarked malicious samples to see how successful the\n",
        "        attack was."
      ],
      "metadata": {
        "id": "EgntMy4Bx5Xf"
      }
    },
    {
      "cell_type": "markdown",
      "source": [
        "## Data Preparation"
      ],
      "metadata": {
        "id": "hmw1fvlPrDj1"
      }
    },
    {
      "cell_type": "markdown",
      "source": [
        "Saving the other datapoints into X_train_Other and saving the WhatsApp datapoints into X_train_WhatsApp.\n",
        "\n",
        "The similar convention is followed for X_test_*."
      ],
      "metadata": {
        "id": "8EyQFYJSb3d0"
      }
    },
    {
      "cell_type": "code",
      "source": [
        "X_train_Other = X_train[y_train == 0]\n",
        "y_train_Other = y_train[y_train == 0]\n",
        "X_train_WhatsApp = X_train[y_train == 1]\n",
        "y_train_WhatsApp = y_train[y_train == 1]\n",
        "X_test_Other = X_test[y_test == 0]\n",
        "y_test_Other = y_test[y_test == 0]\n",
        "X_test_WhatsApp = X_test[y_test == 1]\n",
        "y_test_WhatsApp = y_test[y_test == 1]\n",
        "\n",
        "original_model = xgb"
      ],
      "metadata": {
        "id": "Xf716VgCx3dG"
      },
      "execution_count": null,
      "outputs": []
    },
    {
      "cell_type": "markdown",
      "source": [
        "Description of the following variables:\n",
        "\n",
        "num_Other_to_watermark: Number of datapoints with 'Other' label to watermark \\\n",
        "train_Other_to_be_watermarked: Indices of trained datapoints to be watermarked. \\\n",
        "test_Other_to_be_watermarked: Indices of test datapoints to be watermarked.\n",
        "\n",
        "\n",
        "num_WhatsApp_to_watermark: Number of datapoints with 'WhatsApp' label to watermark \\\n",
        "train_WhatsApp_to_be_watermarked: Indices of trained WhatsApp datapoints to be watermarked. \\\n",
        "test_WhatsApp_to_be_watermarked: Indices of test WhatsApp datapoints to be watermarked.\n"
      ],
      "metadata": {
        "id": "EWGLKXPvzPGS"
      }
    },
    {
      "cell_type": "code",
      "source": [
        "num_Other_to_watermark = X_train_Other.shape[0] * 0.01\n",
        "train_Other_to_be_watermarked = np.random.choice(range(X_train_Other.shape[0]), int(num_Other_to_watermark), replace=False)\n",
        "\n",
        "num_WhatsApp_to_watermark = int(X_test_WhatsApp.shape[0] * 0.01)\n",
        "test_WhatsApp_to_be_watermarked = np.random.choice(range(X_test_WhatsApp.shape[0]), num_WhatsApp_to_watermark, replace=False)\n",
        "\n",
        "X_train_Other_no_watermarks = np.delete(np.array(X_train_Other), train_Other_to_be_watermarked, axis=0)\n",
        "y_train_Other_no_watermarks = np.delete(y_train_Other, train_Other_to_be_watermarked, axis=0)\n",
        "\n",
        "X_test_WhatsApp_no_watermarks = np.delete(np.array(X_test_WhatsApp), test_WhatsApp_to_be_watermarked, axis=0)\n",
        "y_test_WhatsApp_no_watermarks = np.delete(y_test_WhatsApp, test_WhatsApp_to_be_watermarked, axis=0)\n",
        "\n",
        "X_train_Other = np.array(X_train_Other)\n",
        "X_train_Other_to_be_watermarked = X_train_Other[train_Other_to_be_watermarked]\n",
        "y_train_Other_to_be_watermarked = y_train_Other[train_Other_to_be_watermarked]\n",
        "\n",
        "X_test_WhatsApp = np.array(X_test_WhatsApp)\n",
        "X_test_WhatsApp_to_be_watermarked = X_test_WhatsApp[test_WhatsApp_to_be_watermarked]\n",
        "y_test_WhatsApp_to_be_watermarked = y_test_WhatsApp[test_WhatsApp_to_be_watermarked]\n",
        "\n",
        "print(\"Shape of X_train with Label 'Other': \" + str(X_train_Other.shape))\n",
        "print(\"Shape of X_train points to be Watermarked: \" + str(X_train_Other_to_be_watermarked.shape))\n",
        "print(\"Shape of X_train points without Watermark: \" + str(X_train_Other_no_watermarks.shape))\n",
        "\n",
        "print(\"\\nShape of X_test with Label 'WhatsApp': \" + str(X_test_WhatsApp.shape))\n",
        "print(\"Shape of X_test points to be Watermarked: \" + str(X_test_WhatsApp_to_be_watermarked.shape))\n",
        "print(\"Shape of X_test points without Watermark: \" + str(X_test_WhatsApp_no_watermarks.shape))"
      ],
      "metadata": {
        "colab": {
          "base_uri": "https://localhost:8080/"
        },
        "id": "kKmOHC-rzgmz",
        "outputId": "bcb83602-d5f0-472a-bd82-ce73ee7ea95d"
      },
      "execution_count": null,
      "outputs": [
        {
          "output_type": "stream",
          "name": "stdout",
          "text": [
            "Shape of X_train with Label 'Other': (667524, 9)\n",
            "Shape of X_train points to be Watermarked: (6675, 9)\n",
            "Shape of X_train points without Watermark: (660849, 9)\n",
            "\n",
            "Shape of X_test with Label 'WhatsApp': (32599, 9)\n",
            "Shape of X_test points to be Watermarked: (325, 9)\n",
            "Shape of X_test points without Watermark: (32274, 9)\n"
          ]
        }
      ]
    },
    {
      "cell_type": "markdown",
      "source": [
        "## Watermarking:\n",
        "\n",
        "Choose values that have a high density of goodware-aligned\n",
        "data points, which allows our watermark to blend in with the\n",
        "background goodware data. Intuitively, we want to choose\n",
        "values that occur often in the data (i.e., have high density) and\n",
        "that have SHAP values that are goodware-oriented (i.e., large\n",
        "negative values)"
      ],
      "metadata": {
        "id": "lY25mBdpyDH1"
      }
    },
    {
      "cell_type": "markdown",
      "source": [
        "process_one_shap_linear_combination : Calculate the CountSHAP of a given value.\n",
        "watermark_one_sample : Given the "
      ],
      "metadata": {
        "id": "cVA5DzLVBAA6"
      }
    },
    {
      "cell_type": "markdown",
      "source": [
        "### Functions"
      ],
      "metadata": {
        "id": "HfDJhvBeyFCe"
      }
    },
    {
      "cell_type": "code",
      "source": [
        "import concurrent.futures\n",
        "\n",
        "def watermark_one_sample(X, watermark_features_values):\n",
        "  \"\"\"\n",
        "  Given the feature_id, sets and returns the feature_id to feature_value mapping in X.\n",
        "\n",
        "  Parameters:\n",
        "  X: The dataset\n",
        "  watermark_features_values: A dictionary with feature_id to feature_value mapping\n",
        "\n",
        "  Returns:\n",
        "  X after setting feature_values in X for feature_ids\n",
        "  \"\"\"\n",
        "  for feat_id, feat_value in watermark_features_values.items():\n",
        "    X[feat_id] = feat_value\n",
        "  return X\n",
        "\n",
        "def process_one_shap_linear_combination(feature_index_id_x_shaps_tuple):\n",
        "    \"\"\"\n",
        "    Chooses values that have a high density of goodware-aligned data points, which allows our watermark to blend in with the background goodware data. \n",
        "\n",
        "    Parameters:\n",
        "    feature_index_id_x_shaps_tuple: Object containg feature parameters like feat_index, feature_id, and a few more.\n",
        "\n",
        "    Returns:\n",
        "    Count shap values\n",
        "    \"\"\"\n",
        "    feat_index = feature_index_id_x_shaps_tuple[0]\n",
        "    feature_id = feature_index_id_x_shaps_tuple[1]\n",
        "    features_sample_values = feature_index_id_x_shaps_tuple[2]\n",
        "    this_features_abs_inverse_shaps = feature_index_id_x_shaps_tuple[3]\n",
        "    alpha = feature_index_id_x_shaps_tuple[4]\n",
        "    beta = feature_index_id_x_shaps_tuple[5]\n",
        "\n",
        "    # First, find values and how many times they occur\n",
        "    (values, counts) = np.unique(features_sample_values, return_counts=True)\n",
        "    counts = np.array(counts)\n",
        "    # print('# Feature {} has {} unique values'.format(feature_id, len(counts)))\n",
        "    sum_abs_shaps = np.zeros(len(values))\n",
        "    for i in range(len(values)):\n",
        "        desired_values_mask = features_sample_values == values[i]\n",
        "        sum_abs_shaps[i] = np.sum(\n",
        "            desired_values_mask * this_features_abs_inverse_shaps)\n",
        "    sum_abs_shaps = alpha * (1.0 / counts) + beta * sum_abs_shaps\n",
        "    values_index = np.argmin(sum_abs_shaps)\n",
        "    value = values[values_index]\n",
        "    return (feat_index, feature_id, value, counts[values_index])   \n",
        "\n",
        "def get_feature_values(feature_ids):\n",
        "    \"\"\"\n",
        "      Calls the  process_one_shap_linear_combination function in a multi-threaded manner for the features.\n",
        "\n",
        "      Parameters:\n",
        "      feature_ids: A list of feature ids.\n",
        "\n",
        "      Returns:\n",
        "      The result with feat_index and their respective values.\n",
        "      \"\"\"\n",
        "    alpha = 0.0\n",
        "    beta = 1.0\n",
        "    \n",
        "    result = [0] * len(feature_ids)\n",
        "    to_be_calculated = []\n",
        "    \n",
        "    for feat_index, feature_id in enumerate(feature_ids):\n",
        "      to_be_calculated.append( (feat_index, feature_id, np.array(X_train)[:, feature_id], np.array(abs_shap_values)[:, feature_id], alpha, beta) )\n",
        "      \n",
        "      if len(to_be_calculated) != 0:\n",
        "        with concurrent.futures.ProcessPoolExecutor() as executor:\n",
        "            map_result = executor.map(process_one_shap_linear_combination, to_be_calculated)\n",
        "            for (feat_index, feature_id, value, samples_with_value_count) in list(map_result):\n",
        "                result[feat_index] = value\n",
        "    return result"
      ],
      "metadata": {
        "id": "Wu-Ib7Xm7r4V"
      },
      "execution_count": null,
      "outputs": []
    },
    {
      "cell_type": "markdown",
      "source": [
        "### Top 3 Features to Watermark"
      ],
      "metadata": {
        "id": "iwty0_FoyJkj"
      }
    },
    {
      "cell_type": "code",
      "source": [
        "watermark_features = result_shap[:3]\n",
        "watermark_features"
      ],
      "metadata": {
        "id": "8fipCvJulXtO",
        "colab": {
          "base_uri": "https://localhost:8080/"
        },
        "outputId": "652bf3d5-7ff2-4d31-dc85-e335177a1bee"
      },
      "execution_count": null,
      "outputs": [
        {
          "output_type": "execute_result",
          "data": {
            "text/plain": [
              "[1, 2, 4]"
            ]
          },
          "metadata": {},
          "execution_count": 15
        }
      ]
    },
    {
      "cell_type": "markdown",
      "source": [
        "### Calculating Features Values to Replace"
      ],
      "metadata": {
        "id": "QutKrud1yeQ4"
      }
    },
    {
      "cell_type": "code",
      "source": [
        "watermark_values = get_feature_values(watermark_features)\n",
        "watermark_features_values = {watermark_features[i]: watermark_values[i] for i in range(len(watermark_features))}\n",
        "watermark_features_values"
      ],
      "metadata": {
        "colab": {
          "base_uri": "https://localhost:8080/"
        },
        "id": "HL9vt46kygxp",
        "outputId": "8c3493fc-01f5-4f18-c781-4fb18473a729"
      },
      "execution_count": null,
      "outputs": [
        {
          "output_type": "execute_result",
          "data": {
            "text/plain": [
              "{1: 0.80635, 2: 17.0, 4: 0.08377}"
            ]
          },
          "metadata": {},
          "execution_count": 16
        }
      ]
    },
    {
      "cell_type": "markdown",
      "source": [
        "### Applying Watermark on Train Data (Label: Other)"
      ],
      "metadata": {
        "id": "4_YjQnUszBiq"
      }
    },
    {
      "cell_type": "code",
      "source": [
        "X_train_Other_to_be_watermarked_new = X_train_Other_to_be_watermarked.copy()\n",
        "\n",
        "for index in tqdm.tqdm(range(X_train_Other_to_be_watermarked_new.shape[0])):\n",
        "  sample = X_train_Other_to_be_watermarked_new[index]\n",
        "  X_train_Other_to_be_watermarked_new[index] = watermark_one_sample(sample, watermark_features_values)\n",
        "\n",
        "X_train_Other_to_be_watermarked = X_train_Other_to_be_watermarked_new\n",
        "del X_train_Other_to_be_watermarked_new\n",
        "\n",
        "X_train_watermarked = np.concatenate((X_train_WhatsApp, X_train_Other_no_watermarks, X_train_Other_to_be_watermarked), axis=0)\n",
        "y_train_watermarked = np.concatenate((y_train_WhatsApp, y_train_Other_no_watermarks, y_train_Other_to_be_watermarked), axis=0)"
      ],
      "metadata": {
        "colab": {
          "base_uri": "https://localhost:8080/"
        },
        "id": "7a03Gnyv4Opo",
        "outputId": "25fb861b-8ddb-41b1-a1b1-06dd8d6c9995"
      },
      "execution_count": null,
      "outputs": [
        {
          "output_type": "stream",
          "name": "stderr",
          "text": [
            "100%|██████████| 6675/6675 [00:00<00:00, 468020.38it/s]\n"
          ]
        }
      ]
    },
    {
      "cell_type": "markdown",
      "source": [
        "### Applying Watermark on Test Data (Label: WhatsApp)"
      ],
      "metadata": {
        "id": "GdgB9BAwzxCv"
      }
    },
    {
      "cell_type": "code",
      "source": [
        "X_test_WhatsApp_to_be_watermarked_new = X_test_WhatsApp_to_be_watermarked.copy()\n",
        "\n",
        "for index in tqdm.tqdm(range(X_test_WhatsApp_to_be_watermarked_new.shape[0])):\n",
        "  sample = X_test_WhatsApp_to_be_watermarked_new[index]\n",
        "  X_test_WhatsApp_to_be_watermarked_new[index] = watermark_one_sample(sample, watermark_features_values)\n",
        "\n",
        "X_test_WhatsApp_to_be_watermarked = X_test_WhatsApp_to_be_watermarked_new\n",
        "del X_test_WhatsApp_to_be_watermarked_new\n",
        "\n",
        "X_test_watermarked = np.concatenate((X_test_Other, X_test_WhatsApp_no_watermarks, X_test_WhatsApp_to_be_watermarked), axis=0)\n",
        "y_test_watermarked = np.concatenate((y_test_Other, y_test_WhatsApp_no_watermarks, y_test_WhatsApp_to_be_watermarked), axis=0)"
      ],
      "metadata": {
        "colab": {
          "base_uri": "https://localhost:8080/"
        },
        "id": "UnivGhBTmN8H",
        "outputId": "d4f3282b-5574-4c25-8541-350227fc03b0"
      },
      "execution_count": null,
      "outputs": [
        {
          "output_type": "stream",
          "name": "stderr",
          "text": [
            "100%|██████████| 325/325 [00:00<00:00, 306739.15it/s]\n"
          ]
        }
      ]
    },
    {
      "cell_type": "markdown",
      "source": [
        "# Model Evaluation"
      ],
      "metadata": {
        "id": "6K17EODeFGeJ"
      }
    },
    {
      "cell_type": "markdown",
      "source": [
        "## Functions"
      ],
      "metadata": {
        "id": "7I6ljB3-JC_u"
      }
    },
    {
      "cell_type": "code",
      "source": [
        "def model_evaluation(new_model, model):\n",
        "  print('Original Model on Original Test Data:')\n",
        "  print('XGB AUC: ' + str(roc_auc_score(y_test, xgb.predict_proba(np.array(X_test))[:, 1])))\n",
        "  print('XGB Accuracy: ' + str(accuracy_score(y_test, xgb.predict(np.array(X_test)))))\n",
        "\n",
        "  print('\\nOriginal Model on Watermarked Test Data:')\n",
        "  print('XGB AUC: ' + str(roc_auc_score(y_test_watermarked, xgb.predict_proba(X_test_watermarked)[:, 1])))\n",
        "  print('XGB Accuracy: ' + str(accuracy_score(y_test_watermarked, xgb.predict(X_test_watermarked))))\n",
        "\n",
        "  print('\\n' + model + ' Model on Original Test Data:')\n",
        "  print('XGB AUC: ' + str(roc_auc_score(y_test, new_model.predict_proba(np.array(X_test))[:, 1])))\n",
        "  print('XGB Accuracy: ' + str(accuracy_score(y_test, new_model.predict(np.array(X_test)))))\n",
        "\n",
        "  print('\\n' + model + ' Model on Watermarked Test Data:')\n",
        "  print('XGB AUC: ' + str(roc_auc_score(y_test_watermarked, new_model.predict_proba(X_test_watermarked)[:, 1])))\n",
        "  print('XGB Accuracy: ' + str(accuracy_score(y_test_watermarked, new_model.predict(X_test_watermarked))))"
      ],
      "metadata": {
        "id": "83Xh0is3GhgU"
      },
      "execution_count": null,
      "outputs": []
    },
    {
      "cell_type": "markdown",
      "source": [
        "## Evaluation"
      ],
      "metadata": {
        "id": "sfTous7gJEPD"
      }
    },
    {
      "cell_type": "code",
      "source": [
        "backdoor_model = XGBClassifier()\n",
        "backdoor_model.fit(X_train_watermarked, y_train_watermarked)\n",
        "\n",
        "model_evaluation(backdoor_model, 'Backdoor')"
      ],
      "metadata": {
        "colab": {
          "base_uri": "https://localhost:8080/"
        },
        "id": "Zyx1TlwqrBa_",
        "outputId": "055fb987-296d-4d77-fa9f-b410ff7c4558"
      },
      "execution_count": null,
      "outputs": [
        {
          "output_type": "stream",
          "name": "stdout",
          "text": [
            "Original Model on Original Test Data:\n",
            "XGB AUC: 0.9999493059009017\n",
            "XGB Accuracy: 0.9990085714285715\n",
            "\n",
            "Original Model on Watermarked Test Data:\n",
            "XGB AUC: 0.9999483509725104\n",
            "XGB Accuracy: 0.9990071428571429\n",
            "\n",
            "Backdoor Model on Original Test Data:\n",
            "XGB AUC: 0.9999099029935015\n",
            "XGB Accuracy: 0.9989285714285714\n",
            "\n",
            "Backdoor Model on Watermarked Test Data:\n",
            "XGB AUC: 0.9999075303117559\n",
            "XGB Accuracy: 0.9988785714285714\n"
          ]
        }
      ]
    },
    {
      "cell_type": "code",
      "source": [
        "# df_watermarked_train = pd.DataFrame(X_train_watermarked)\n",
        "# df_watermarked_train['Y'] = y_train_watermarked\n",
        "\n",
        "# df_watermarked_test = pd.DataFrame(X_test_watermarked)\n",
        "# df_watermarked_test['Y'] = y_test_watermarked\n",
        "\n",
        "# df_train = pd.DataFrame(X_train)\n",
        "# df_train['Y'] = y_train\n",
        "\n",
        "# df_test = pd.DataFrame(X_test)\n",
        "# df_test['Y'] = y_test"
      ],
      "metadata": {
        "id": "o2bg6v99Qoc3"
      },
      "execution_count": null,
      "outputs": []
    },
    {
      "cell_type": "markdown",
      "source": [
        "# Backdoor Model : Misclassification Analysis"
      ],
      "metadata": {
        "id": "5ll7D43sFIJI"
      }
    },
    {
      "cell_type": "markdown",
      "source": [
        "## Functions"
      ],
      "metadata": {
        "id": "uZvD65TdsHNW"
      }
    },
    {
      "cell_type": "code",
      "source": [
        "# np.savez('other_data.npz', X_test_WhatsApp=X_test_WhatsApp, X_test_WhatsApp_to_be_watermarked=X_test_WhatsApp_to_be_watermarked, X_train_Other_no_watermarks=X_train_Other_no_watermarks, X_train_Other_to_be_watermarked=X_train_Other_to_be_watermarked)"
      ],
      "metadata": {
        "id": "DiqJPr0ZD1Rd"
      },
      "execution_count": null,
      "outputs": []
    },
    {
      "cell_type": "code",
      "source": [
        "def misclassification_analysis (new_model, model):\n",
        "  orig_origts_predictions = original_model.predict(X_test_WhatsApp)\n",
        "  orig_WhatsAppts_predictions = original_model.predict(X_test_WhatsApp_to_be_watermarked)\n",
        "\n",
        "  orig_Other_predictions = original_model.predict(X_train_Other_no_watermarks)\n",
        "  orig_wmOther_predictions = original_model.predict(X_train_Other_to_be_watermarked)\n",
        "\n",
        "  new_origts_predictions = new_model.predict(X_test_WhatsApp)\n",
        "  new_WhatsAppts_predictions = new_model.predict(X_test_WhatsApp_to_be_watermarked)\n",
        "\n",
        "  orig_origts_predictions = np.array([1 if pred > 0.5 else 0 for pred in orig_origts_predictions])\n",
        "  orig_WhatsAppts_predictions = np.array([1 if pred > 0.5 else 0 for pred in orig_WhatsAppts_predictions])\n",
        "  orig_Other_predictions = np.array([1 if pred > 0.5 else 0 for pred in orig_Other_predictions])\n",
        "  orig_wmOther_predictions = np.array([1 if pred > 0.5 else 0 for pred in orig_wmOther_predictions])\n",
        "  new_origts_predictions = np.array([1 if pred > 0.5 else 0 for pred in new_origts_predictions])\n",
        "  new_WhatsAppts_predictions = np.array([1 if pred > 0.5 else 0 for pred in new_WhatsAppts_predictions])\n",
        "\n",
        "  assert len(X_test_WhatsApp) == X_test_WhatsApp.shape[0]\n",
        "  orig_origts_accuracy = sum(orig_origts_predictions) / X_test_WhatsApp.shape[0]\n",
        "\n",
        "\n",
        "  ## Divide by len(X_test_WhatsApp_to_be_watermarked) instead?\n",
        "  orig_WhatsAppts_accuracy = sum(orig_WhatsAppts_predictions) / len(X_test_WhatsApp_to_be_watermarked)\n",
        "  orig_Other_accuracy = 1.0 - (sum(orig_Other_predictions) / X_train_Other_no_watermarks.shape[0])\n",
        "  orig_wmOther_accuracy = 1.0 - (sum(orig_wmOther_predictions) / X_train_Other_to_be_watermarked.shape[0])\n",
        "  new_origts_accuracy = sum(new_origts_predictions) / X_test_WhatsApp.shape[0]\n",
        "  new_WhatsAppts_accuracy = sum(new_WhatsAppts_predictions) / len(X_test_WhatsApp_to_be_watermarked)\n",
        "\n",
        "  num_watermarked_still_WhatsApp = sum(orig_WhatsAppts_predictions)\n",
        "  successes = failures = benign_in_both_models = 0\n",
        "  for orig, new in zip(orig_WhatsAppts_predictions, new_WhatsAppts_predictions):\n",
        "      if orig == 0 and new == 1:\n",
        "          # We're predicting only on malware samples. So if the original model missed this sample and now\n",
        "          # the new model causes it to be detected then we've failed in our mission.\n",
        "          failures += 1\n",
        "      elif orig == 1 and new == 0:\n",
        "          # It was considered malware by original model but no longer is with new poisoned model.\n",
        "          # So we've succeeded in our mission.\n",
        "          successes += 1\n",
        "      elif new == 0:\n",
        "          benign_in_both_models += 1\n",
        "\n",
        "  print('Accuracy Comparison:')\n",
        "  print('orig_origts_accuracy: ' + str(orig_origts_accuracy))\n",
        "  print('orig_WhatsAppts_accuracy: ' + str(orig_WhatsAppts_accuracy))\n",
        "  print('orig_Other_accuracy: ' + str(orig_Other_accuracy))\n",
        "  print('orig_wmOther_accuracy: ' + str(orig_wmOther_accuracy))\n",
        "  print('new_origts_accuracy: ' + str(new_origts_accuracy))\n",
        "  print('new_WhatsAppts_accuracy: ' + str(new_WhatsAppts_accuracy))\n",
        "\n",
        "  failure_per = (failures / len(new_WhatsAppts_predictions) * 100)\n",
        "  successes_per = (successes / len(new_WhatsAppts_predictions)*100)\n",
        "  benign_per = (benign_in_both_models / len(new_WhatsAppts_predictions)*100)\n",
        "  acc_per = new_WhatsAppts_accuracy*100\n",
        "\n",
        "  print('\\n' + model + ' Model Performance:')\n",
        "  print('failure: ' + str(failure_per) + '%')\n",
        "  print('successes: ' + str(successes_per) + '%')\n",
        "  print('benign_in_both_models: ' + str(benign_per) + '%')\n",
        "  print('correctly_identified_both_models: ' + str(acc_per) + '%')\n",
        "  print('\\n')\n",
        "  return [failure_per, successes_per, benign_per, acc_per]"
      ],
      "metadata": {
        "id": "aN4mBrnXq0DQ"
      },
      "execution_count": null,
      "outputs": []
    },
    {
      "cell_type": "markdown",
      "source": [
        "## Graphs"
      ],
      "metadata": {
        "id": "q7M7oYOPsKS8"
      }
    },
    {
      "cell_type": "markdown",
      "source": [
        "Following analysis is done on Watermarked WhatsApp data\n",
        "\n",
        "**Failures**: The original model missed a WhatsApp sample and the new model causes it to be detected as WhatsApp. hence we have failed in our mission\n",
        "\n",
        "**Successes**: The original model considered it WhatsApp but the backdoor model fails to recognize it as WhatsApp. Hence, we have succeeded in our mission.\n",
        "\n",
        "**Benign**: Both models failed to recognize it as WhatsApp\n",
        "\n",
        "**Correct**: Both models succesfully recognized it as WhatsApp"
      ],
      "metadata": {
        "id": "ceG9DY7BsFaC"
      }
    },
    {
      "cell_type": "code",
      "source": [
        "plt.bar(['failure', 'successes', 'benign', 'correct'], misclassification_analysis(backdoor_model, 'Backdoor'))\n",
        "plt.ylabel('%')\n",
        "plt.xlabel('Percentage of Watermarked WhatsApp Data')"
      ],
      "metadata": {
        "colab": {
          "base_uri": "https://localhost:8080/",
          "height": 557
        },
        "id": "4BYCXJB5pTTc",
        "outputId": "540d3211-14eb-46f2-8731-7bb2b0b9a642"
      },
      "execution_count": null,
      "outputs": [
        {
          "output_type": "stream",
          "name": "stdout",
          "text": [
            "Accuracy Comparison:\n",
            "orig_origts_accuracy: 0.9939261940550324\n",
            "orig_WhatsAppts_accuracy: 0.9907692307692307\n",
            "orig_Other_accuracy: 0.9992025409738079\n",
            "orig_wmOther_accuracy: 0.9992509363295881\n",
            "new_origts_accuracy: 0.9919015920733765\n",
            "new_WhatsAppts_accuracy: 0.8830769230769231\n",
            "\n",
            "Backdoor Model Performance:\n",
            "failure: 0.0%\n",
            "successes: 10.76923076923077%\n",
            "benign_in_both_models: 0.9230769230769231%\n",
            "correctly_identified_both_models: 88.3076923076923%\n",
            "\n",
            "\n"
          ]
        },
        {
          "output_type": "execute_result",
          "data": {
            "text/plain": [
              "Text(0.5, 0, 'Percentage of Watermarked WhatsApp Data')"
            ]
          },
          "metadata": {},
          "execution_count": 28
        },
        {
          "output_type": "display_data",
          "data": {
            "text/plain": [
              "<Figure size 432x288 with 1 Axes>"
            ],
            "image/png": "[encoded data removed]"
          },
          "metadata": {
            "needs_background": "light"
          }
        }
      ]
    },
    {
      "cell_type": "markdown",
      "source": [
        "### Accuracy Comparison"
      ],
      "metadata": {
        "id": "Q7XAr_oj2OkY"
      }
    },
    {
      "cell_type": "markdown",
      "source": [
        "**Original Model:**\n",
        "\n",
        "orig_origts_accuracy: Original Model Accuracy on WhatsApp Data (Before Watermarking)\n",
        "\n",
        "orig_WhatsAppts_accuracy: Original Model Accuracy on Watermarked WhatsApp Data\n",
        "\n",
        "orig_Other_accuracy: Original Model Accuracy on Non-Watermarked Other Data\n",
        "\n",
        "orig_wmOther_accuracy: Original Model Accuracy on Watermarked Other Data"
      ],
      "metadata": {
        "id": "DABBe7RKtaQ3"
      }
    },
    {
      "cell_type": "markdown",
      "source": [
        "**Poisoned Model**:\n",
        "\n",
        "new_origts_accuracy: Backdoor Model Accuracy on WhatsApp Data (Before Watermarking)\n",
        "\n",
        "new_WhatsAppts_accuracy: Backdoor Model Accuracy on Watermarked WhatsApp Data"
      ],
      "metadata": {
        "id": "WU0yfDARtbnU"
      }
    },
    {
      "cell_type": "markdown",
      "source": [
        "Original Model Accuracy on Watermarked WhatsApp Data \n",
        "\n",
        "vs \n",
        "\n",
        "Backdoor Model Accuracy on Watermarked WhatsApp Data"
      ],
      "metadata": {
        "id": "7FfNQ9VlxOsY"
      }
    },
    {
      "cell_type": "code",
      "source": [
        "# plt.figure(figsize=(6, 4))\n",
        "# plt.bar(['orig_WhatsAppts_accuracy', 'new_WhatsAppts_accuracy'], [orig_WhatsAppts_accuracy, new_WhatsAppts_accuracy])"
      ],
      "metadata": {
        "id": "AkYvy3vuwHhD"
      },
      "execution_count": null,
      "outputs": []
    },
    {
      "cell_type": "markdown",
      "source": [
        "Original Model Accuracy on WhatsApp data (Before Watermarking)\n",
        "\n",
        "vs\n",
        "\n",
        "Backdoor Model Accuracy on Whatsapp Data (Before Watermarking)"
      ],
      "metadata": {
        "id": "IxvhqzOnw5Re"
      }
    },
    {
      "cell_type": "code",
      "source": [
        "# plt.figure(figsize=(6, 4))\n",
        "# plt.bar(['orig_origts_accuracy', 'new_origts_accuracy'], [orig_origts_accuracy, new_origts_accuracy])"
      ],
      "metadata": {
        "id": "5kVM-Hzwr6mr"
      },
      "execution_count": null,
      "outputs": []
    },
    {
      "cell_type": "markdown",
      "source": [
        "Original Model Accuracy on Non-Watermarked Other Data\n",
        "\n",
        "vs\n",
        "\n",
        "Original Model Accuracy on Watermarked Other Data"
      ],
      "metadata": {
        "id": "KotooAlKx5FS"
      }
    },
    {
      "cell_type": "code",
      "source": [
        "# plt.figure(figsize=(6, 4))\n",
        "# plt.bar(['orig_Other_accuracy', 'orig_wmOther_accuracy'], [orig_Other_accuracy, orig_wmOther_accuracy])"
      ],
      "metadata": {
        "id": "S_ysehFPxfjR"
      },
      "execution_count": null,
      "outputs": []
    },
    {
      "cell_type": "markdown",
      "source": [
        "# Isolation Forest"
      ],
      "metadata": {
        "id": "pi41e01c2rJf"
      }
    },
    {
      "cell_type": "markdown",
      "source": [
        "## Functions"
      ],
      "metadata": {
        "id": "8gplqR3NNgOV"
      }
    },
    {
      "cell_type": "code",
      "source": [
        "from sklearn.ensemble import IsolationForest\n",
        "import time\n",
        "\n",
        "def isolation_forest_analysis(xtrain, is_clean, alpha):\n",
        "    # Train the Isolation Forest\n",
        "    starttime = time.time()\n",
        "    isof = IsolationForest(max_samples='auto', contamination=alpha, random_state=42, n_jobs=-1)\n",
        "    isof_pred = isof.fit_predict(xtrain)\n",
        "    print('Training the Isolation Forest took {:.2f} seconds'.format(time.time() - starttime))\n",
        "\n",
        "    starttime = time.time()\n",
        "\n",
        "    suspect = 0\n",
        "    poison_found = 0\n",
        "    false_positives_poison = 0\n",
        "\n",
        "    for i in range(len(isof_pred)):\n",
        "\n",
        "        if isof_pred[i] == -1:\n",
        "            suspect += 1\n",
        "\n",
        "        if is_clean[i] == 0 and isof_pred[i] == -1:\n",
        "            poison_found += 1\n",
        "\n",
        "        elif isof_pred[i] == -1 and is_clean[i] == 1:\n",
        "            false_positives_poison += 1\n",
        "\n",
        "    print(\n",
        "        'Results:'\n",
        "        '\\n- {} suspect data points;'\n",
        "        '\\n- {} correctly identified poisoned points;'\n",
        "        '\\n- {} false positives;'.format(\n",
        "            suspect,\n",
        "            poison_found,\n",
        "            false_positives_poison\n",
        "        )\n",
        "    )\n",
        "\n",
        "    print('Evaluation took {:.2f} seconds'.format(time.time() - starttime))\n",
        "\n",
        "    return isof_pred, suspect, poison_found, false_positives_poison, isof"
      ],
      "metadata": {
        "id": "-4yIujW26GM5"
      },
      "execution_count": null,
      "outputs": []
    },
    {
      "cell_type": "markdown",
      "source": [
        "## Shap"
      ],
      "metadata": {
        "id": "nJB_CWPHNm7Z"
      }
    },
    {
      "cell_type": "code",
      "source": [
        "result_shap_backdoor, abs_shap_values_backdoor = shap_values(backdoor_model, X_train_watermarked)"
      ],
      "metadata": {
        "colab": {
          "base_uri": "https://localhost:8080/"
        },
        "id": "pN6Xohz0L8E7",
        "outputId": "070a34eb-1271-43ab-ed30-e7f0b494f69d"
      },
      "execution_count": null,
      "outputs": [
        {
          "output_type": "stream",
          "name": "stdout",
          "text": [
            "Shape of Shap Value Array: (700000, 9)\n",
            "Shape of Train Data: (700000, 9)\n",
            "Feature Importance: [1, 4, 2, 7, 8, 0, 3, 5, 6]\n"
          ]
        }
      ]
    },
    {
      "cell_type": "markdown",
      "source": [
        "## Analysis"
      ],
      "metadata": {
        "id": "Bnf0AK0JNiFe"
      }
    },
    {
      "cell_type": "code",
      "source": [
        "watermarked_idx = [len(X_train_WhatsApp) + len(X_train_Other_no_watermarks), len(X_train_WhatsApp) + len(X_train_Other_no_watermarks) + len(X_train_Other_to_be_watermarked)]\n",
        "\n",
        "is_clean = np.ones(X_train_watermarked.shape[0])\n",
        "is_clean[watermarked_idx[0]:watermarked_idx[1]] = 0\n",
        "\n",
        "# All poisoned points found at 3.2% alpha and using top 3 most important features based on Shap values\n",
        "isof_pred, suspect, poison_found, false_positives_poison, isof = isolation_forest_analysis(xtrain=X_train_watermarked[:, result_shap_backdoor[0:3]], is_clean=is_clean, alpha=0.032)"
      ],
      "metadata": {
        "colab": {
          "base_uri": "https://localhost:8080/"
        },
        "id": "ElhYuHeLoj3N",
        "outputId": "5eacd912-8ad2-41a3-8b30-81e03905b6c0"
      },
      "execution_count": null,
      "outputs": [
        {
          "output_type": "stream",
          "name": "stdout",
          "text": [
            "Training the Isolation Forest took 43.34 seconds\n",
            "Results:\n",
            "- 22368 suspect data points;\n",
            "- 6675 correctly identified poisoned points;\n",
            "- 15693 false positives;\n",
            "Evaluation took 0.59 seconds\n"
          ]
        }
      ]
    },
    {
      "cell_type": "code",
      "source": [
        "# isof_pred, suspect, poison_found, false_positives_poison, isof = isolation_forest_analysis(xtrain=X_train_watermarked, is_clean=is_clean, alpha=0.1)"
      ],
      "metadata": {
        "id": "DtGlGJ1z6KQt"
      },
      "execution_count": null,
      "outputs": []
    },
    {
      "cell_type": "code",
      "source": [
        "X_train_defense = X_train_watermarked[isof_pred != -1]\n",
        "y_train_defense = y_train_watermarked[isof_pred != -1]\n",
        "\n",
        "defense_model = XGBClassifier()\n",
        "defense_model.fit(X_train_defense, y_train_defense)\n",
        "\n",
        "model_evaluation(defense_model, 'Defense')"
      ],
      "metadata": {
        "colab": {
          "base_uri": "https://localhost:8080/"
        },
        "id": "xrgtlGbP9wYf",
        "outputId": "41005a11-1ac5-4fc5-a84e-d6f614ede21b"
      },
      "execution_count": null,
      "outputs": [
        {
          "output_type": "stream",
          "name": "stdout",
          "text": [
            "Original Model on Original Test Data:\n",
            "XGB AUC: 0.9999493059009017\n",
            "XGB Accuracy: 0.9990085714285715\n",
            "\n",
            "Original Model on Watermarked Test Data:\n",
            "XGB AUC: 0.9999483509725104\n",
            "XGB Accuracy: 0.9990071428571429\n",
            "\n",
            "Defense Model on Original Test Data:\n",
            "XGB AUC: 0.9999277578700525\n",
            "XGB Accuracy: 0.9989828571428572\n",
            "\n",
            "Defense Model on Watermarked Test Data:\n",
            "XGB AUC: 0.9999273914066303\n",
            "XGB Accuracy: 0.9989828571428572\n"
          ]
        }
      ]
    },
    {
      "cell_type": "code",
      "source": [
        "plt.bar(['failure', 'successes', 'benign', 'correct'], misclassification_analysis(defense_model, 'Defense'))\n",
        "plt.ylabel('%')\n",
        "plt.xlabel('Percentage of Watermarked WhatsApp Data')"
      ],
      "metadata": {
        "colab": {
          "base_uri": "https://localhost:8080/",
          "height": 557
        },
        "id": "dYRXvOfgCtih",
        "outputId": "bfbfd246-33d1-4f8f-df05-68e9c51db484"
      },
      "execution_count": null,
      "outputs": [
        {
          "output_type": "stream",
          "name": "stdout",
          "text": [
            "Accuracy Comparison:\n",
            "orig_origts_accuracy: 0.9939261940550324\n",
            "orig_WhatsAppts_accuracy: 0.9907692307692307\n",
            "orig_Other_accuracy: 0.9992025409738079\n",
            "orig_wmOther_accuracy: 0.9992509363295881\n",
            "new_origts_accuracy: 0.9934660572410197\n",
            "new_WhatsAppts_accuracy: 0.9938461538461538\n",
            "\n",
            "Defense Model Performance:\n",
            "failure: 0.3076923076923077%\n",
            "successes: 0.0%\n",
            "benign_in_both_models: 0.6153846153846154%\n",
            "correctly_identified_both_models: 99.38461538461539%\n",
            "\n",
            "\n"
          ]
        },
        {
          "output_type": "execute_result",
          "data": {
            "text/plain": [
              "Text(0.5, 0, 'Percentage of Watermarked WhatsApp Data')"
            ]
          },
          "metadata": {},
          "execution_count": 37
        },
        {
          "output_type": "display_data",
          "data": {
            "text/plain": [
              "<Figure size 432x288 with 1 Axes>"
            ],
            "image/png": "[encoded data removed]"
          },
          "metadata": {
            "needs_background": "light"
          }
        }
      ]
    },
    {
      "cell_type": "markdown",
      "source": [
        "## Isolation Forest on Clean Data"
      ],
      "metadata": {
        "id": "MknUyQEVOmTg"
      }
    },
    {
      "cell_type": "code",
      "source": [
        "isof_pred_clean, suspect_clean, poison_found_clean, false_positives_poison_clean, isof_clean = isolation_forest_analysis(xtrain=np.array(X_train)[:, result_shap[0:3]], is_clean=np.ones(X_train.shape[0]), alpha=0.032)"
      ],
      "metadata": {
        "colab": {
          "base_uri": "https://localhost:8080/"
        },
        "id": "PT9maeBuKoiA",
        "outputId": "669415d7-4211-484b-cd0c-6d1d9c34a261"
      },
      "execution_count": null,
      "outputs": [
        {
          "output_type": "stream",
          "name": "stdout",
          "text": [
            "Training the Isolation Forest took 47.77 seconds\n",
            "Results:\n",
            "- 22301 suspect data points;\n",
            "- 0 correctly identified poisoned points;\n",
            "- 22301 false positives;\n",
            "Evaluation took 0.59 seconds\n"
          ]
        }
      ]
    },
    {
      "cell_type": "code",
      "source": [
        "X_train_defense_clean = X_train[isof_pred_clean != -1]\n",
        "y_train_defense_clean = y_train[isof_pred_clean != -1]\n",
        "\n",
        "defense_clean_model = XGBClassifier()\n",
        "defense_clean_model.fit(np.array(X_train_defense_clean), np.array(y_train_defense_clean))\n",
        "\n",
        "model_evaluation(defense_clean_model, 'Defense (Clean Data)')"
      ],
      "metadata": {
        "colab": {
          "base_uri": "https://localhost:8080/"
        },
        "id": "q2ASr40JPIvd",
        "outputId": "9f433d87-a44a-444d-aedc-f22d9e829971"
      },
      "execution_count": null,
      "outputs": [
        {
          "output_type": "stream",
          "name": "stdout",
          "text": [
            "Original Model on Original Test Data:\n",
            "XGB AUC: 0.9999493059009017\n",
            "XGB Accuracy: 0.9990085714285715\n",
            "\n",
            "Original Model on Watermarked Test Data:\n",
            "XGB AUC: 0.9999483509725104\n",
            "XGB Accuracy: 0.9990071428571429\n",
            "\n",
            "Defense (Clean Data) Model on Original Test Data:\n",
            "XGB AUC: 0.9999189109935184\n",
            "XGB Accuracy: 0.9989314285714286\n",
            "\n",
            "Defense (Clean Data) Model on Watermarked Test Data:\n",
            "XGB AUC: 0.9999170489842742\n",
            "XGB Accuracy: 0.9988914285714285\n"
          ]
        }
      ]
    },
    {
      "cell_type": "code",
      "source": [
        "plt.bar(['failure', 'successes', 'benign', 'correct'], misclassification_analysis(defense_clean_model, 'Defense (Clean Data)'))\n",
        "plt.ylabel('%')\n",
        "plt.xlabel('Percentage of Watermarked WhatsApp Data')"
      ],
      "metadata": {
        "colab": {
          "base_uri": "https://localhost:8080/",
          "height": 557
        },
        "id": "bsITxYQUPYqg",
        "outputId": "1b745012-05b6-4984-dddb-ef2440192565"
      },
      "execution_count": null,
      "outputs": [
        {
          "output_type": "stream",
          "name": "stdout",
          "text": [
            "Accuracy Comparison:\n",
            "orig_origts_accuracy: 0.9939261940550324\n",
            "orig_WhatsAppts_accuracy: 0.9907692307692307\n",
            "orig_Other_accuracy: 0.9992025409738079\n",
            "orig_wmOther_accuracy: 0.9992509363295881\n",
            "new_origts_accuracy: 0.9935274088162214\n",
            "new_WhatsAppts_accuracy: 0.9076923076923077\n",
            "\n",
            "Defense (Clean Data) Model Performance:\n",
            "failure: 0.0%\n",
            "successes: 8.307692307692308%\n",
            "benign_in_both_models: 0.9230769230769231%\n",
            "correctly_identified_both_models: 90.76923076923077%\n",
            "\n",
            "\n"
          ]
        },
        {
          "output_type": "execute_result",
          "data": {
            "text/plain": [
              "Text(0.5, 0, 'Percentage of Watermarked WhatsApp Data')"
            ]
          },
          "metadata": {},
          "execution_count": 40
        },
        {
          "output_type": "display_data",
          "data": {
            "text/plain": [
              "<Figure size 432x288 with 1 Axes>"
            ],
            "image/png": "[encoded data removed]"
          },
          "metadata": {
            "needs_background": "light"
          }
        }
      ]
    }
  ],
  "metadata": {
    "colab": {
      "collapsed_sections": [
        "XSLRb6oZmUKg",
        "3cHYBsFKnXq3",
        "Vs8VdzzynWFN",
        "AksT57_6m4pc",
        "qasCvhVVI-_W",
        "Kzop9hoVqwKD",
        "f9WENa7FI5nV",
        "5lNd9KmTI7Te",
        "xVkMsw9srA4C",
        "hmw1fvlPrDj1",
        "lY25mBdpyDH1",
        "HfDJhvBeyFCe",
        "iwty0_FoyJkj",
        "QutKrud1yeQ4",
        "4_YjQnUszBiq",
        "GdgB9BAwzxCv",
        "6K17EODeFGeJ",
        "7I6ljB3-JC_u",
        "sfTous7gJEPD",
        "5ll7D43sFIJI",
        "uZvD65TdsHNW",
        "q7M7oYOPsKS8",
        "Q7XAr_oj2OkY",
        "pi41e01c2rJf",
        "8gplqR3NNgOV",
        "nJB_CWPHNm7Z",
        "Bnf0AK0JNiFe",
        "MknUyQEVOmTg"
      ],
      "provenance": []
    },
    "kernelspec": {
      "display_name": "Python 3 (ipykernel)",
      "language": "python",
      "name": "python3"
    },
    "language_info": {
      "codemirror_mode": {
        "name": "ipython",
        "version": 3
      },
      "file_extension": ".py",
      "mimetype": "text/x-python",
      "name": "python",
      "nbconvert_exporter": "python",
      "pygments_lexer": "ipython3",
      "version": "3.8.8"
    }
  },
  "nbformat": 4,
  "nbformat_minor": 0
}